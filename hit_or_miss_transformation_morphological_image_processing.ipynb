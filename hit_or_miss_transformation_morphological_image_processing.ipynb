{
 "cells": [
  {
   "cell_type": "code",
   "execution_count": 2,
   "metadata": {},
   "outputs": [
    {
     "data": {
      "text/plain": [
       "'\\n(A ^ B) - binary image complement operation\\n(A & B) - binary image intersection\\n(A | B) - binary image union\\n(A & (B ^ 1)) - binary image set difference\\n'"
      ]
     },
     "execution_count": 2,
     "metadata": {},
     "output_type": "execute_result"
    }
   ],
   "source": [
    "# hit or miss transformation - morphological image processing\n",
    "# learning resource - https://theailearner.com/tag/hit-or-miss-transformation-opencv/\n",
    "# learning resource - https://docs.opencv.org/master/db/d06/tutorial_hitOrMiss.html\n",
    "import numpy  as np\n",
    "import matplotlib.image as mpimg\n",
    "import matplotlib.pyplot as plt\n",
    "%matplotlib inline\n",
    "plt.rcParams[\"figure.figsize\"] = (12, 6)\n",
    "\n",
    "'''\n",
    "(A ^ B) - binary image complement operation\n",
    "(A & B) - binary image intersection\n",
    "(A | B) - binary image union\n",
    "(A & (B ^ 1)) - binary image set difference\n",
    "'''"
   ]
  },
  {
   "cell_type": "code",
   "execution_count": 3,
   "metadata": {},
   "outputs": [
    {
     "data": {
      "text/plain": [
       "Text(0.5, 1.0, 'Complemented Binary Image')"
      ]
     },
     "execution_count": 3,
     "metadata": {},
     "output_type": "execute_result"
    },
    {
     "data": {
      "image/png": "[encoded data removed]",
      "text/plain": [
       "<Figure size 864x432 with 2 Axes>"
      ]
     },
     "metadata": {
      "needs_background": "light"
     },
     "output_type": "display_data"
    }
   ],
   "source": [
    "# binary image initialization\n",
    "binary_image = np.array([[0, 1, 1, 1, 0],\\\n",
    "                         [0, 0, 1, 0, 0],\\\n",
    "                         [0, 0, 1, 0, 0],\\\n",
    "                         [0, 1, 0, 1, 0],\\\n",
    "                         [0, 1, 1, 0, 0]], dtype = np.int32)\n",
    "\n",
    "# binary image show\n",
    "plt.subplot(1, 2, 1)\n",
    "plt.imshow(binary_image, cmap = \"binary\")\n",
    "plt.title(\"Binary Image\")\n",
    "\n",
    "# compelemented binary image\n",
    "complemented_binary_image = (binary_image ^ 1)\n",
    "\n",
    "# complemented binary image show\n",
    "plt.subplot(1, 2, 2)\n",
    "plt.imshow(complemented_binary_image, cmap = \"binary\")\n",
    "plt.title(\"Complemented Binary Image\")"
   ]
  },
  {
   "cell_type": "code",
   "execution_count": 4,
   "metadata": {},
   "outputs": [
    {
     "data": {
      "text/plain": [
       "Text(0.5, 1.0, 'B2 kernel - kernel to miss')"
      ]
     },
     "execution_count": 4,
     "metadata": {},
     "output_type": "execute_result"
    },
    {
     "data": {
      "image/png": "[encoded data removed]",
      "text/plain": [
       "<Figure size 864x432 with 2 Axes>"
      ]
     },
     "metadata": {
      "needs_background": "light"
     },
     "output_type": "display_data"
    }
   ],
   "source": [
    "# 3 x 3 B1 kernel initialization - kernel to hit\n",
    "B1 = np.array([[0, 1, 0],\\\n",
    "               [1, 0, 1],\\\n",
    "               [0, 1, 0]], dtype = np.int32)\n",
    "\n",
    "# B1 kernel show\n",
    "plt.subplot(1, 2, 1)\n",
    "plt.imshow(B1, cmap = \"binary\")\n",
    "plt.title(\"B1 kernel - kernel to hit\")\n",
    "\n",
    "# 3 x 3 B2 kernel initialization - kernel to miss\n",
    "B2 = np.array([[0, 0, 0],\\\n",
    "               [0, 1, 0],\\\n",
    "               [0, 0, 0]], dtype = np.int32)\n",
    "# B2 kernel show\n",
    "plt.subplot(1, 2, 2)\n",
    "plt.imshow(B2, cmap = \"binary\")\n",
    "plt.title(\"B2 kernel - kernel to miss\")"
   ]
  },
  {
   "cell_type": "code",
   "execution_count": 5,
   "metadata": {},
   "outputs": [
    {
     "data": {
      "text/plain": [
       "Text(0.5, 1.0, 'Padded Complemented Binary Image')"
      ]
     },
     "execution_count": 5,
     "metadata": {},
     "output_type": "execute_result"
    },
    {
     "data": {
      "image/png": "[encoded data removed]",
      "text/plain": [
       "<Figure size 864x432 with 2 Axes>"
      ]
     },
     "metadata": {
      "needs_background": "light"
     },
     "output_type": "display_data"
    }
   ],
   "source": [
    "# padded binary image\n",
    "row, col = binary_image.shape\n",
    "padded_binary_image = np.array([[0, 0, 1, 1, 1, 0, 0],\\\n",
    "                                [0, 0, 1, 1, 1, 0, 0],\\\n",
    "                                [0, 0, 0, 1, 0, 0, 0],\\\n",
    "                                [0, 0, 0, 1, 0, 0, 0],\\\n",
    "                                [0, 0, 1, 0, 1, 0, 0],\\\n",
    "                                [0, 0, 1, 1, 0, 0, 0],\\\n",
    "                                [0, 0, 1, 1, 0, 0, 0]], dtype = np.int32)\n",
    "\n",
    "# padded binary image show\n",
    "plt.subplot(1, 2, 1)\n",
    "plt.imshow(padded_binary_image, cmap = \"binary\")\n",
    "plt.title(\"Padded Binary Image\")\n",
    "\n",
    "# padded complemented binary image\n",
    "padded_complemented_binary_image = padded_binary_image ^ 1\n",
    "\n",
    "# padded complemented binary image show\n",
    "plt.subplot(1, 2, 2)\n",
    "plt.imshow(padded_complemented_binary_image, cmap = \"binary\")\n",
    "plt.title(\"Padded Complemented Binary Image\")"
   ]
  },
  {
   "cell_type": "code",
   "execution_count": 6,
   "metadata": {},
   "outputs": [
    {
     "data": {
      "text/plain": [
       "Text(0.5, 1.0, 'Eroded Complemented Binary Image')"
      ]
     },
     "execution_count": 6,
     "metadata": {},
     "output_type": "execute_result"
    },
    {
     "data": {
      "image/png": "[encoded data removed]",
      "text/plain": [
       "<Figure size 864x432 with 2 Axes>"
      ]
     },
     "metadata": {
      "needs_background": "light"
     },
     "output_type": "display_data"
    }
   ],
   "source": [
    "# erosion(binary_image, B1) - morphological image processing\n",
    "row, col      = binary_image.shape\n",
    "eroded_binary_image = binary_image.copy()\n",
    "\n",
    "for i in range(row):\n",
    "    for j in range(col):\n",
    "        tmp_row = np.array([0, 1, 1, 2])\n",
    "        tmp_col = np.array([1, 0, 2, 1])\n",
    "        if np.sum(padded_binary_image[i+tmp_row, j+tmp_col] == B1[tmp_row, tmp_col])\\\n",
    "                  == np.sum(B1):\n",
    "            eroded_binary_image[i, j] = 1\n",
    "        else:\n",
    "            eroded_binary_image[i, j] = 0\n",
    "            \n",
    "# eroded binary image show - erosion(A, B1)\n",
    "plt.subplot(1, 2, 1)\n",
    "plt.imshow(eroded_binary_image, cmap = \"binary\")\n",
    "plt.title(\"Eroded Binary Image\")\n",
    "\n",
    "\n",
    "\n",
    "# erosion(complemented_binary_image, B2) - morphological image processing\n",
    "row, col      = binary_image.shape\n",
    "eroded_complemented_binary_image = complemented_binary_image.copy()\n",
    "\n",
    "for i in range(row):\n",
    "    for j in range(col):\n",
    "        tmp_row = np.array([1])\n",
    "        tmp_col = np.array([1])\n",
    "        if np.sum(padded_complemented_binary_image[i+tmp_row, j+tmp_col]==B2[tmp_row, tmp_col])\\\n",
    "        == np.sum(B2):\n",
    "            eroded_complemented_binary_image[i, j] = 1\n",
    "        else:\n",
    "            eroded_complemented_binary_image[i, j] = 0\n",
    "            \n",
    "# eroded complemented binary image show - dilation(A', B2)\n",
    "plt.subplot(1, 2, 2)\n",
    "plt.imshow(eroded_complemented_binary_image, cmap = \"binary\")\n",
    "plt.title(\"Eroded Complemented Binary Image\")"
   ]
  },
  {
   "cell_type": "code",
   "execution_count": 7,
   "metadata": {},
   "outputs": [
    {
     "data": {
      "text/plain": [
       "Text(0.5, 1.0, 'Hit or Miss transformed Image')"
      ]
     },
     "execution_count": 7,
     "metadata": {},
     "output_type": "execute_result"
    },
    {
     "data": {
      "image/png": "[encoded data removed]",
      "text/plain": [
       "<Figure size 864x432 with 1 Axes>"
      ]
     },
     "metadata": {
      "needs_background": "light"
     },
     "output_type": "display_data"
    }
   ],
   "source": [
    "# hit or miss transformation - morphological image processing\n",
    "# intersection(dilated_binary_image, dilated_complemented_binary_image)\n",
    "hit_miss_image = (eroded_binary_image & eroded_complemented_binary_image)\n",
    "\n",
    "# Hit or Miss transformed image show\n",
    "plt.imshow(hit_miss_image, cmap = \"binary\")\n",
    "plt.title(\"Hit or Miss transformed Image\")"
   ]
  },
  {
   "cell_type": "code",
   "execution_count": null,
   "metadata": {},
   "outputs": [],
   "source": []
  }
 ],
 "metadata": {
  "kernelspec": {
   "display_name": "Python 3",
   "language": "python",
   "name": "python3"
  },
  "language_info": {
   "codemirror_mode": {
    "name": "ipython",
    "version": 3
   },
   "file_extension": ".py",
   "mimetype": "text/x-python",
   "name": "python",
   "nbconvert_exporter": "python",
   "pygments_lexer": "ipython3",
   "version": "3.7.4"
  }
 },
 "nbformat": 4,
 "nbformat_minor": 2
}
