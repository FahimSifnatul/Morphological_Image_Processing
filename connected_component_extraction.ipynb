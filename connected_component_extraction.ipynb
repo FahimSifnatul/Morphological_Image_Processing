{
 "cells": [
  {
   "cell_type": "code",
   "execution_count": 1,
   "metadata": {},
   "outputs": [
    {
     "data": {
      "text/plain": [
       "'\\n(A ^ B) - binary image complement operation\\n(A & B) - binary image intersection\\n(A | B) - binary image union\\n(A & (B ^ 1)) - binary image set difference\\n'"
      ]
     },
     "execution_count": 1,
     "metadata": {},
     "output_type": "execute_result"
    }
   ],
   "source": [
    "# Connected component extraction - morphological image processing\n",
    "# same as region filling but in stead of intersecting with A', here intersection is done with A\n",
    "import numpy  as np\n",
    "import matplotlib.pyplot as plt\n",
    "%matplotlib inline\n",
    "\n",
    "'''\n",
    "(A ^ B) - binary image complement operation\n",
    "(A & B) - binary image intersection\n",
    "(A | B) - binary image union\n",
    "(A & (B ^ 1)) - binary image set difference\n",
    "'''"
   ]
  },
  {
   "cell_type": "code",
   "execution_count": 2,
   "metadata": {},
   "outputs": [
    {
     "data": {
      "text/plain": [
       "Text(0.5, 1.0, 'B kernel')"
      ]
     },
     "execution_count": 2,
     "metadata": {},
     "output_type": "execute_result"
    },
    {
     "data": {
      "image/png": "[encoded data removed]",
      "text/plain": [
       "<Figure size 864x576 with 2 Axes>"
      ]
     },
     "metadata": {
      "needs_background": "light"
     },
     "output_type": "display_data"
    }
   ],
   "source": [
    "plt.rcParams[\"figure.figsize\"] = (12, 8)\n",
    "# binary image initialization\n",
    "binary_image = np.array([[1, 0, 0, 0, 0, 0, 0, 0, 1],\n",
    "                         [1, 1, 1, 1, 1, 1, 1, 1, 0],\n",
    "                         [1, 0, 0, 1, 1, 1, 0, 1, 0],\n",
    "                         [1, 1, 0, 0, 1, 0, 1, 1, 0],\n",
    "                         [0, 1, 1, 0, 1, 0, 0, 1, 1],\n",
    "                         [0, 1, 0, 0, 0, 1, 1, 0, 1],\n",
    "                         [0, 1, 0, 1, 0, 1, 0, 1, 0],\n",
    "                         [0, 1, 1, 1, 1, 1, 1, 1, 0],\n",
    "                         [0, 0, 0, 0, 0, 0, 0, 0, 0]], dtype= np.int32)\n",
    "# binary image show\n",
    "plt.subplot(1, 2, 1)\n",
    "plt.imshow(binary_image, cmap = \"binary\")\n",
    "plt.title(\"Binary Image\")\n",
    "\n",
    "\n",
    "# n x m image kernel / structuring element dimensions\n",
    "n, m = 3, 3 # kernal dimensions should be odd\n",
    "\n",
    "# n x m B kernel initialization\n",
    "# 8 connected kernel\n",
    "B = np.ones((3, 3), dtype = np.int32)\n",
    "\n",
    "# B kernel image show\n",
    "plt.subplot(1, 2, 2)\n",
    "plt.imshow(B, cmap = \"binary\")\n",
    "plt.title(\"B kernel\")"
   ]
  },
  {
   "cell_type": "code",
   "execution_count": 3,
   "metadata": {},
   "outputs": [
    {
     "data": {
      "text/plain": [
       "Text(0.5, 1.0, 'Connected Component Extraction')"
      ]
     },
     "execution_count": 3,
     "metadata": {},
     "output_type": "execute_result"
    },
    {
     "data": {
      "image/png": "[encoded data removed]",
      "text/plain": [
       "<Figure size 720x432 with 1 Axes>"
      ]
     },
     "metadata": {
      "needs_background": "light"
     },
     "output_type": "display_data"
    }
   ],
   "source": [
    "# connected component extraction - morphological image processing\n",
    "row, col = binary_image.shape\n",
    "previous_image = np.zeros((row, col), dtype = np.int32)\n",
    "present_image  = np.zeros((row, col), dtype = np.int32)\n",
    "present_image[2, 2] = 1\n",
    "\n",
    "while np.sum(previous_image == present_image) < row * col:\n",
    "    previous_image = present_image.copy()\n",
    "    # d = dilate(x[k-1], B)\n",
    "    for i in range(1, row-1):\n",
    "        for j in range(1, col-1):\n",
    "            tmp_image = previous_image[i-1 : i+2, j-1 : j+2].copy()\n",
    "            if np.sum(tmp_image == B) > 0:\n",
    "                present_image[i, j] = 1\n",
    "            else:\n",
    "                present_image[i, j] = 0\n",
    "    # intersection(d, complemented image of A)\n",
    "    present_image = (present_image & binary_image)\n",
    "    \n",
    "# filling area show\n",
    "plt.rcParams[\"figure.figsize\"] = (10, 6)\n",
    "plt.imshow(present_image, cmap = \"binary\")\n",
    "plt.title(\"Connected Component Extraction\")"
   ]
  },
  {
   "cell_type": "code",
   "execution_count": null,
   "metadata": {},
   "outputs": [],
   "source": []
  }
 ],
 "metadata": {
  "kernelspec": {
   "display_name": "Python 3",
   "language": "python",
   "name": "python3"
  },
  "language_info": {
   "codemirror_mode": {
    "name": "ipython",
    "version": 3
   },
   "file_extension": ".py",
   "mimetype": "text/x-python",
   "name": "python",
   "nbconvert_exporter": "python",
   "pygments_lexer": "ipython3",
   "version": "3.7.4"
  }
 },
 "nbformat": 4,
 "nbformat_minor": 2
}
